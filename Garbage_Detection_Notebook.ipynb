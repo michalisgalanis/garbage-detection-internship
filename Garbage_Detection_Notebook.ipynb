{
  "nbformat": 4,
  "nbformat_minor": 0,
  "metadata": {
    "colab": {
      "name": "Garbage Detection Notebook.ipynb",
      "provenance": [],
      "collapsed_sections": [],
      "authorship_tag": "ABX9TyOPEhkUMDJn1cPEf25lnVCm",
      "include_colab_link": true
    },
    "kernelspec": {
      "name": "python3",
      "display_name": "Python 3"
    }
  },
  "cells": [
    {
      "cell_type": "markdown",
      "metadata": {
        "id": "view-in-github",
        "colab_type": "text"
      },
      "source": [
        "<a href=\"https://colab.research.google.com/github/michalisgalanis/garbage-detection-internship/blob/main/Garbage_Detection_Notebook.ipynb\" target=\"_parent\"><img src=\"https://colab.research.google.com/assets/colab-badge.svg\" alt=\"Open In Colab\"/></a>"
      ]
    },
    {
      "cell_type": "markdown",
      "metadata": {
        "id": "p9Uun_H2emM9"
      },
      "source": [
        "# **Pre-processing**"
      ]
    },
    {
      "cell_type": "markdown",
      "metadata": {
        "id": "XbdUmIvyfBda"
      },
      "source": [
        "## Acquiring the TACO dataset\n",
        "TACO is a growing image dataset of waste in the wild. It contains images of litter taken under diverse environments: woods, roads and beaches. These images are manually labeled and segmented according to a hierarchical taxonomy to train and evaluate object detection algorithms. Currently, images are hosted on\n",
        "Flickr and we have a server that is collecting more images and annotations.\n",
        "\n",
        "Get more information [here](https://github.com/pedropro/TACO)."
      ]
    },
    {
      "cell_type": "code",
      "metadata": {
        "id": "1bTHQ7B5imfd"
      },
      "source": [
        "# Installing required libraries\n",
        "!pip install pillow\n",
        "!pip install requests\n",
        "!pip install jupyter\n",
        "!pip install numpy\n",
        "!pip install pandas\n",
        "!pip install matplotlib\n",
        "!pip install seaborn\n",
        "!pip install graphviz\n",
        "!pip install Cython"
      ],
      "execution_count": null,
      "outputs": []
    },
    {
      "cell_type": "code",
      "metadata": {
        "id": "b6Q_zfK_kCBe"
      },
      "source": [
        "# Clone & Download dataset\n",
        "import os\n",
        "\n",
        "!git clone https://github.com/pedropro/TACO\n",
        "os.chdir('/content/TACO')\n",
        "!python3 download.py"
      ],
      "execution_count": null,
      "outputs": []
    },
    {
      "cell_type": "markdown",
      "metadata": {
        "id": "6yc4soYE91wI"
      },
      "source": [
        "## Organize files & folders"
      ]
    },
    {
      "cell_type": "code",
      "metadata": {
        "id": "Ebg1pYCR98c-"
      },
      "source": [
        "import os\n",
        "import shutil\n",
        "\n",
        "root_path = 'TACO/'\n",
        "data_path = root_path + 'data/'\n",
        "image_path = data_path + 'images/'\n",
        "\n",
        "# Create new folder 'images'\n",
        "os.mkdir(image_path)\n",
        "\n",
        "# move all images from  multiple batch folders to a new single folder.\n",
        "for batch in os.listdir(data_path):\n",
        "    if os.path.isdir(data_path) and 'batch' in batch:\n",
        "        for image in os.listdir(data_path + batch):\n",
        "            shutil.move(data_path + batch + '/' + image, image_path + image)\n",
        "        shutil.rmtree(data_path + batch)"
      ],
      "execution_count": 24,
      "outputs": []
    },
    {
      "cell_type": "markdown",
      "metadata": {
        "id": "ggcKVQpJtkbu"
      },
      "source": [
        "## Load & Visualize annotations\n",
        "\n",
        "The TACO dataset information is represented in a COCO format. To select and show dataset images with respective masks, we make use of the COCO API.\n",
        "\n",
        "This sections uses the annotations.json file to generate a mask for every image in this dataset."
      ]
    },
    {
      "cell_type": "code",
      "metadata": {
        "id": "V1gyIYJn8iBd"
      },
      "source": [
        "from PIL import Image, ExifTags\n",
        "from pycocotools.coco import COCO\n",
        "from matplotlib.patches import Polygon, Rectangle\n",
        "from matplotlib.collections import PatchCollection\n",
        "import matplotlib.pyplot as plt\n",
        "import numpy as np\n",
        "import colorsys\n",
        "import imageio\n",
        "import shutil\n",
        "import random\n",
        "import pylab\n",
        "import json\n",
        "import os\n",
        "\n",
        "# Paths\n",
        "root_path = 'TACO/'\n",
        "data_path = root_path + 'data/'\n",
        "image_path = data_path + 'images/'\n",
        "label_path = data_path + 'labels/'\n",
        "anns_file_path = data_path + 'annotations.json'\n",
        "pylab.rcParams['figure.figsize'] = (28,28)\n",
        "\n",
        "# Read annotations\n",
        "with open(anns_file_path, 'r') as f:\n",
        "    dataset = json.loads(f.read())\n",
        "categories = dataset['categories']\n",
        "anns = dataset['annotations']\n",
        "imgs = dataset['images']\n",
        "\n",
        "# Clearing garbage (pun intented)\n",
        "if (os.path.exists(label_path)): \n",
        "    shutil.rmtree(label_path)\n",
        "\n",
        "# Create mask directory\n",
        "os.mkdir(label_path)\n",
        "\n",
        "# Generate mask for every image in this dataset\n",
        "for image_filepath in os.listdir(image_path):\n",
        "    # Obtain Exif orientation tag code\n",
        "    for orientation in ExifTags.TAGS.keys():\n",
        "        if ExifTags.TAGS[orientation] == 'Orientation':\n",
        "            break\n",
        "\n",
        "    # Loads dataset as a coco object\n",
        "    coco = COCO(anns_file_path)\n",
        "\n",
        "    # Find image id\n",
        "    img_id = -1\n",
        "    for img in imgs:\n",
        "        check_image = img['file_name'].rpartition('/')[2]\n",
        "        if check_image == image_filepath:\n",
        "            img_id = img['id']\n",
        "            break\n",
        "\n",
        "    # Show image and corresponding annotations\n",
        "    if img_id == -1:\n",
        "        print('Incorrect file name')\n",
        "    else:\n",
        "        # Create binary mask from annotations.json and export as image\n",
        "        anns_img = np.zeros((img['height'],img['width']))\n",
        "        for ann in anns:\n",
        "            if ann['image_id'] == img_id:\n",
        "                a = coco.annToMask(ann)*ann['category_id']\n",
        "                anns_img = np.maximum(anns_img,a)\n",
        "\n",
        "        imageio.imwrite(label_path + image_filepath, anns_img)\n"
      ],
      "execution_count": null,
      "outputs": []
    },
    {
      "cell_type": "markdown",
      "metadata": {
        "id": "C_FJAmU7tUZr"
      },
      "source": [
        "# **Training**"
      ]
    },
    {
      "cell_type": "code",
      "metadata": {
        "id": "0yHPu8rQ5piw",
        "outputId": "e16fc3b7-e983-408d-8f34-8adef06acd13",
        "colab": {
          "base_uri": "https://localhost:8080/",
          "height": 102
        }
      },
      "source": [
        "import os, shutil\n",
        "\n",
        "model_path = '/content/Mask_RCNN'\n",
        "if os.path.exists(model_path): shutil.rmtree(model_path)\n",
        "!git clone https://github.com/matterport/Mask_RCNN /content/Mask_RCNN"
      ],
      "execution_count": 6,
      "outputs": [
        {
          "output_type": "stream",
          "text": [
            "Cloning into '/content/Mask_RCNN'...\n",
            "remote: Enumerating objects: 956, done.\u001b[K\n",
            "remote: Total 956 (delta 0), reused 0 (delta 0), pack-reused 956\u001b[K\n",
            "Receiving objects: 100% (956/956), 111.85 MiB | 6.47 MiB/s, done.\n",
            "Resolving deltas: 100% (563/563), done.\n"
          ],
          "name": "stdout"
        }
      ]
    },
    {
      "cell_type": "code",
      "metadata": {
        "id": "1FuT9Myg4Elw"
      },
      "source": [
        "import os\n",
        "import sys\n",
        "import random\n",
        "import math\n",
        "import numpy as np\n",
        "import skimage.io\n",
        "import matplotlib\n",
        "import matplotlib.pyplot as plt\n",
        "\n",
        "\n",
        "ROOT_DIR = os.path.abspath(\"../content/Mask\")\n"
      ],
      "execution_count": null,
      "outputs": []
    },
    {
      "cell_type": "markdown",
      "metadata": {
        "id": "_V1PZVBjDhZx"
      },
      "source": [
        "\n",
        "\n",
        "---\n",
        "\n"
      ]
    },
    {
      "cell_type": "code",
      "metadata": {
        "id": "rPK2fRmSDhHJ",
        "outputId": "0eff5d63-cf69-4b3c-fbb1-7f21fe3b4f28",
        "colab": {
          "base_uri": "https://localhost:8080/",
          "height": 34
        }
      },
      "source": [
        "!cd /content/Mask_RCNN/\n",
        "!python3 samples/coco/coco.py train --dataset=/content/TACO/data --model=coco"
      ],
      "execution_count": 14,
      "outputs": [
        {
          "output_type": "stream",
          "text": [
            "python3: can't open file 'samples/coco/coco.py': [Errno 2] No such file or directory\n"
          ],
          "name": "stdout"
        }
      ]
    },
    {
      "cell_type": "markdown",
      "metadata": {
        "id": "hx8rPFa6tXFk"
      },
      "source": [
        "# **Testing**"
      ]
    }
  ]
}