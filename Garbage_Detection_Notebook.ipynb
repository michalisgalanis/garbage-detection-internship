{
  "nbformat": 4,
  "nbformat_minor": 0,
  "metadata": {
    "colab": {
      "name": "Garbage Detection Notebook.ipynb",
      "provenance": [],
      "collapsed_sections": [
        "XbdUmIvyfBda",
        "6yc4soYE91wI",
        "ggcKVQpJtkbu"
      ],
      "toc_visible": true
    },
    "kernelspec": {
      "name": "python3",
      "display_name": "Python 3"
    }
  },
  "cells": [
    {
      "cell_type": "markdown",
      "metadata": {
        "id": "p9Uun_H2emM9"
      },
      "source": [
        "# **A. Pre-processing**"
      ]
    },
    {
      "cell_type": "markdown",
      "metadata": {
        "id": "XbdUmIvyfBda"
      },
      "source": [
        "## Acquiring the TACO dataset\n",
        "TACO is a growing image dataset of waste in the wild. It contains images of litter taken under diverse environments: woods, roads and beaches. These images are manually labeled and segmented according to a hierarchical taxonomy to train and evaluate object detection algorithms. Currently, images are hosted on\n",
        "Flickr and we have a server that is collecting more images and annotations.\n",
        "\n",
        "Get more information [here](https://github.com/pedropro/TACO)."
      ]
    },
    {
      "cell_type": "code",
      "metadata": {
        "id": "_BlwQmP2X0lR"
      },
      "source": [
        "# 0. Clear Data\n",
        "import os, shutil\n",
        "if os.path.exists('sample_data/'): shutil.rmtree('sample_data/')"
      ],
      "execution_count": null,
      "outputs": []
    },
    {
      "cell_type": "code",
      "metadata": {
        "id": "1bTHQ7B5imfd"
      },
      "source": [
        "# 1. Installing required libraries\n",
        "!pip install pillow\n",
        "!pip install requests\n",
        "!pip install jupyter\n",
        "!pip install numpy\n",
        "!pip install pandas\n",
        "!pip install matplotlib\n",
        "!pip install seaborn\n",
        "!pip install graphviz\n",
        "!pip install Cython"
      ],
      "execution_count": null,
      "outputs": []
    },
    {
      "cell_type": "code",
      "metadata": {
        "id": "b6Q_zfK_kCBe"
      },
      "source": [
        "# 2.1 Clone & Download dataset\n",
        "!git clone https://github.com/pedropro/TACO\n",
        "%cd /content/TACO\n",
        "!python3 download.py"
      ],
      "execution_count": null,
      "outputs": []
    },
    {
      "cell_type": "code",
      "metadata": {
        "id": "ijfVDNzYXnsI"
      },
      "source": [
        "# 2.2 OR Upload TACO.zip with 2-3 images (for simplicity's sake)\n",
        "%cd /content\n",
        "!unzip /content/TACO.zip"
      ],
      "execution_count": null,
      "outputs": []
    },
    {
      "cell_type": "markdown",
      "metadata": {
        "id": "6yc4soYE91wI"
      },
      "source": [
        "## Organize files & folders"
      ]
    },
    {
      "cell_type": "code",
      "metadata": {
        "id": "Ebg1pYCR98c-"
      },
      "source": [
        "# 3. Move all images from multiple batch folders to a new single folder.\n",
        "import os\n",
        "import shutil\n",
        "\n",
        "root_path = 'TACO/'\n",
        "data_path = root_path + 'data/'\n",
        "image_path = data_path + 'images/'\n",
        "\n",
        "# Create new folder 'images'\n",
        "%cd /content/\n",
        "os.mkdir(image_path)\n",
        "\n",
        "for batch in os.listdir(data_path):\n",
        "    if os.path.isdir(data_path) and 'batch' in batch:\n",
        "        for image in os.listdir(data_path + batch):\n",
        "            shutil.move(data_path + batch + '/' + image, image_path + image)\n",
        "        shutil.rmtree(data_path + batch)"
      ],
      "execution_count": null,
      "outputs": []
    },
    {
      "cell_type": "markdown",
      "metadata": {
        "id": "ggcKVQpJtkbu"
      },
      "source": [
        "## Load & Visualize annotations\n",
        "\n",
        "The TACO dataset information is represented in a COCO format. To select and show dataset images with respective masks, we make use of the COCO API.\n",
        "\n",
        "This sections uses the annotations.json file to generate a mask for every image in this dataset."
      ]
    },
    {
      "cell_type": "code",
      "metadata": {
        "id": "V1gyIYJn8iBd"
      },
      "source": [
        "# 4. Export Image Masks from JSON format.\n",
        "from PIL import Image, ExifTags\n",
        "from pycocotools.coco import COCO\n",
        "from matplotlib.patches import Polygon, Rectangle\n",
        "from matplotlib.collections import PatchCollection\n",
        "import matplotlib.pyplot as plt\n",
        "import numpy as np\n",
        "import colorsys\n",
        "import imageio\n",
        "import shutil\n",
        "import random\n",
        "import pylab\n",
        "import json\n",
        "import os\n",
        "\n",
        "# Paths\n",
        "root_path = 'TACO/'\n",
        "data_path = root_path + 'data/'\n",
        "image_path = data_path + 'images/'\n",
        "label_path = data_path + 'labels/'\n",
        "anns_file_path = data_path + 'annotations.json'\n",
        "pylab.rcParams['figure.figsize'] = (28,28)\n",
        "\n",
        "# Read annotations\n",
        "with open(anns_file_path, 'r') as f:\n",
        "    dataset = json.loads(f.read())\n",
        "categories = dataset['categories']\n",
        "anns = dataset['annotations']\n",
        "imgs = dataset['images']\n",
        "\n",
        "# Clearing garbage (pun intented)\n",
        "if (os.path.exists(label_path)): \n",
        "    shutil.rmtree(label_path)\n",
        "\n",
        "# Create mask directory\n",
        "os.mkdir(label_path)\n",
        "\n",
        "# Generate mask for every image in this dataset\n",
        "for image_filepath in os.listdir(image_path):\n",
        "    # Obtain Exif orientation tag code\n",
        "    for orientation in ExifTags.TAGS.keys():\n",
        "        if ExifTags.TAGS[orientation] == 'Orientation':\n",
        "            break\n",
        "\n",
        "    # Loads dataset as a coco object\n",
        "    coco = COCO(anns_file_path)\n",
        "\n",
        "    # Find image id\n",
        "    img_id = -1\n",
        "    for img in imgs:\n",
        "        check_image = img['file_name'].rpartition('/')[2]\n",
        "        if check_image == image_filepath:\n",
        "            img_id = img['id']\n",
        "            break\n",
        "\n",
        "    # Show image and corresponding annotations\n",
        "    if img_id == -1:\n",
        "        print('Incorrect file name')\n",
        "    else:\n",
        "        # Create binary mask from annotations.json and export as image\n",
        "        anns_img = np.zeros((img['height'],img['width']))\n",
        "        for ann in anns:\n",
        "            if ann['image_id'] == img_id:\n",
        "                a = coco.annToMask(ann)*ann['category_id']\n",
        "                anns_img = np.maximum(anns_img,a)\n",
        "\n",
        "        imageio.imwrite(label_path + image_filepath, anns_img)\n"
      ],
      "execution_count": null,
      "outputs": []
    },
    {
      "cell_type": "markdown",
      "metadata": {
        "id": "C_FJAmU7tUZr"
      },
      "source": [
        "# **B. Training**"
      ]
    },
    {
      "cell_type": "markdown",
      "metadata": {
        "id": "_48NuOF2a5ZH"
      },
      "source": [
        "### 1. Setting up training process"
      ]
    },
    {
      "cell_type": "code",
      "metadata": {
        "id": "0yHPu8rQ5piw"
      },
      "source": [
        "import os, shutil\n",
        "\n",
        "%cd Mask_RCNN/\n",
        "\n",
        "model_path = '/content/Mask_RCNN'\n",
        "if os.path.exists(model_path): shutil.rmtree(model_path)\n",
        "\n",
        "!git clone https://github.com/matterport/Mask_RCNN /content/Mask_RCNN\n",
        "!python3 setup.py install"
      ],
      "execution_count": null,
      "outputs": []
    },
    {
      "cell_type": "code",
      "metadata": {
        "id": "0Hr0pbWpQtTx"
      },
      "source": [
        "import os\n",
        "import sys\n",
        "import random\n",
        "import math\n",
        "import numpy as np\n",
        "import skimage.io\n",
        "import matplotlib\n",
        "import matplotlib.pyplot as plt\n",
        "\n",
        "# Root directory of the project\n",
        "ROOT_DIR = os.path.abspath(\"/content/Mask_RCNN\")\n",
        "\n",
        "# Import Mask RCNN\n",
        "sys.path.append(ROOT_DIR)  # To find local version of the library\n",
        "from mrcnn import utils\n",
        "import mrcnn.model as modellib\n",
        "from mrcnn import visualize\n",
        "# Import COCO config\n",
        "sys.path.append(os.path.join(ROOT_DIR, \"samples/coco/\"))  # To find local version\n",
        "import coco\n",
        "\n",
        "%matplotlib inline \n",
        "\n",
        "# Directory to save logs and trained model\n",
        "MODEL_DIR = os.path.join(ROOT_DIR, \"logs\")\n",
        "\n",
        "# Local path to trained weights file\n",
        "COCO_MODEL_PATH = os.path.join(ROOT_DIR, \"mask_rcnn_coco.h5\")\n",
        "# Download COCO trained weights from Releases if needed\n",
        "if not os.path.exists(COCO_MODEL_PATH):\n",
        "    utils.download_trained_weights(COCO_MODEL_PATH)\n",
        "\n",
        "# Directory of images to run detection on\n",
        "IMAGE_DIR = os.path.join(ROOT_DIR, \"images\")"
      ],
      "execution_count": null,
      "outputs": []
    },
    {
      "cell_type": "code",
      "metadata": {
        "id": "LxmPFn5fajmI"
      },
      "source": [
        "# Configurations\n",
        "\n",
        "class InferenceConfig(coco.CocoConfig):\n",
        "    # Set batch size to 1 since we'll be running inference on\n",
        "    # one image at a time. Batch size = GPU_COUNT * IMAGES_PER_GPU\n",
        "    GPU_COUNT = 1\n",
        "    IMAGES_PER_GPU = 1\n",
        "\n",
        "config = InferenceConfig()\n",
        "config.display()"
      ],
      "execution_count": null,
      "outputs": []
    },
    {
      "cell_type": "code",
      "metadata": {
        "id": "zOdWSNmYaqyW"
      },
      "source": [
        "# Create Model and Load Trained Weights\n",
        "\n",
        "# Create model object in inference mode.\n",
        "model = modellib.MaskRCNN(mode=\"inference\", model_dir=MODEL_DIR, config=config)\n",
        "\n",
        "# Load weights trained on MS-COCO\n",
        "model.load_weights(COCO_MODEL_PATH, by_name=True)"
      ],
      "execution_count": null,
      "outputs": []
    },
    {
      "cell_type": "code",
      "metadata": {
        "id": "Ammj7Q9fcSqY"
      },
      "source": [
        "# COCO Class names\n",
        "\n",
        "# Index of the class in the list is its ID.\n",
        "class_names = ['BG', 'garbage']"
      ],
      "execution_count": null,
      "outputs": []
    },
    {
      "cell_type": "code",
      "metadata": {
        "id": "XWshBWl7crJN"
      },
      "source": [
        "# Run Object Detection\n",
        "\n",
        "# Load a random image from the images folder\n",
        "file_names = next(os.walk(IMAGE_DIR))[2]\n",
        "image = skimage.io.imread(os.path.join(IMAGE_DIR, random.choice(file_names)))\n",
        "\n",
        "# Run detection\n",
        "results = model.detect([image], verbose=1)\n",
        "\n",
        "# Visualize results\n",
        "r = results[0]\n",
        "visualize.display_instances(image, r['rois'], r['masks'], r['class_ids'], \n",
        "                            class_names, r['scores'])"
      ],
      "execution_count": null,
      "outputs": []
    },
    {
      "cell_type": "markdown",
      "metadata": {
        "id": "wHWuR1RBbxXg"
      },
      "source": [
        "### 2. Train\n"
      ]
    },
    {
      "cell_type": "code",
      "metadata": {
        "id": "tU27Sf-Wb2k3"
      },
      "source": [
        ""
      ],
      "execution_count": null,
      "outputs": []
    },
    {
      "cell_type": "markdown",
      "metadata": {
        "id": "hx8rPFa6tXFk"
      },
      "source": [
        "# **C. Testing**"
      ]
    },
    {
      "cell_type": "code",
      "metadata": {
        "id": "zW9IplmtaFf2"
      },
      "source": [
        ""
      ],
      "execution_count": null,
      "outputs": []
    }
  ]
}